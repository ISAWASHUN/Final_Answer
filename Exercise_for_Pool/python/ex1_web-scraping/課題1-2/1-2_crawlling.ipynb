{
 "cells": [
  {
   "cell_type": "code",
   "execution_count": 6,
   "id": "508efce6",
   "metadata": {},
   "outputs": [
    {
     "name": "stderr",
     "output_type": "stream",
     "text": [
      "\n",
      "\n",
      "====== WebDriver manager ======\n",
      "Current google-chrome version is 102.0.5005\n",
      "Get LATEST chromedriver version for 102.0.5005 google-chrome\n",
      "Driver [/Users/isawashun/.wdm/drivers/chromedriver/mac64/102.0.5005.61/chromedriver] found in cache\n"
     ]
    }
   ],
   "source": [
    "from time import sleep\n",
    "import requests\n",
    "from bs4 import BeautifulSoup\n",
    "import pandas as pd\n",
    "import re\n",
    "\n",
    "from selenium import webdriver\n",
    "\n",
    "from selenium.webdriver.chrome.options import Options\n",
    "\n",
    "options = Options()\n",
    "options.add_argument(\"--headless\") \n",
    "driver = webdriver.Chrome(\n",
    "    executable_path='/Users/isawashun/Desktop/Final_Answer/Exercise_for_Pool/python/ex1_web-scraping/課題1-2/chromedriver 2',\n",
    "    options=options\n",
    ")\n",
    "\n",
    "driver.implicitly_wait(10)\n",
    "\n",
    "url = 'https://r.gnavi.co.jp/area/tokyo/izakaya/rs/?sort=LOW&p=1'\n",
    "    \n",
    "driver.get(url)\n",
    "sleep(3)\n",
    "\n",
    "with open('food_store.html','w') as f:\n",
    "    f.write(driver.page_source)\n",
    "    \n",
    "    driver.quit()\n",
    "\n",
    "\n"
   ]
  },
  {
   "cell_type": "code",
   "execution_count": null,
   "id": "f0afc7dd",
   "metadata": {},
   "outputs": [],
   "source": []
  }
 ],
 "metadata": {
  "kernelspec": {
   "display_name": "Python 3 (ipykernel)",
   "language": "python",
   "name": "python3"
  },
  "language_info": {
   "codemirror_mode": {
    "name": "ipython",
    "version": 3
   },
   "file_extension": ".py",
   "mimetype": "text/x-python",
   "name": "python",
   "nbconvert_exporter": "python",
   "pygments_lexer": "ipython3",
   "version": "3.9.7"
  }
 },
 "nbformat": 4,
 "nbformat_minor": 5
}
